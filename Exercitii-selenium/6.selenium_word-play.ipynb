{
 "cells": [
  {
   "cell_type": "code",
   "execution_count": null,
   "id": "f4ec40bc",
   "metadata": {},
   "outputs": [],
   "source": [
    "from selenium import webdriver\n",
    "from selenium.webdriver.common.by import By\n",
    "import time\n",
    "from datetime import datetime\n",
    "\n",
    "\n",
    "browser = webdriver.Chrome()\n",
    "\n",
    "URL = \"https://wordplay.com/\"\n",
    "\n",
    "browser.get(URL)"
   ]
  },
  {
   "cell_type": "code",
   "execution_count": null,
   "id": "f3416b28",
   "metadata": {},
   "outputs": [],
   "source": [
    "XPATH_Q = '//*[@id=\"__next\"]/div[1]/div[1]/div/div[2]/div/div/div[1]/button[1]'\n",
    "\n",
    "XPATH_A = '//*[@id=\"__next\"]/div[1]/div[1]/div/div[2]/div/div/div[2]/button[1]'\n",
    "\n",
    "XPATH_S = '//*[@id=\"__next\"]/div[1]/div[1]/div/div[2]/div/div/div[2]/button[2]'"
   ]
  },
  {
   "cell_type": "code",
   "execution_count": null,
   "id": "f685e7c7",
   "metadata": {},
   "outputs": [],
   "source": [
    "rand = 2\n",
    "linia = 4\n",
    "\n",
    "XPATH_GENERIC = f'//*[@id=\"__next\"]/div[1]/div[1]/div/div[2]/div/div/div[{rand}]/button[{linia}]'\n",
    "\n",
    "browser.find_element(By.XPATH, XPATH_GENERIC).click()"
   ]
  },
  {
   "cell_type": "code",
   "execution_count": null,
   "id": "21ece209",
   "metadata": {},
   "outputs": [],
   "source": [
    "TASTATURA = [\"qwertyuiop\", \"asdfghjkl\", \" zxcvbnm\"]\n",
    "\n",
    "def rand_linie(litera):\n",
    "    \n",
    "    for count, rand in enumerate(TASTATURA):\n",
    "        if litera in rand:\n",
    "            r = count\n",
    "            l = rand.index(litera)\n",
    "            return (r + 1, l + 1)\n",
    "        \n",
    "    \n",
    "\n",
    "def xpath_pt(litera):\n",
    "    rand, linia = rand_linie(litera)\n",
    "    return f'//*[@id=\"__next\"]/div[1]/div[1]/div/div[2]/div/div/div[{rand}]/button[{linia}]'\n",
    "\n",
    "\n",
    "def press_enter():\n",
    "    ENTER = '//*[@id=\"__next\"]/div[1]/div[1]/div/div[2]/div/div/div[3]/button[1]'\n",
    "    browser.find_element(By.XPATH, ENTER).click()"
   ]
  },
  {
   "cell_type": "code",
   "execution_count": null,
   "id": "a913407e",
   "metadata": {},
   "outputs": [],
   "source": [
    "rand_linie(\"k\")"
   ]
  },
  {
   "cell_type": "code",
   "execution_count": null,
   "id": "ec2694db",
   "metadata": {},
   "outputs": [],
   "source": [
    "browser.get(URL)"
   ]
  },
  {
   "cell_type": "code",
   "execution_count": null,
   "id": "862bd21f",
   "metadata": {},
   "outputs": [],
   "source": [
    "time.sleep(2)\n",
    "cuvinte = [\"audio\", \"audio\", \"glyph\"]\n",
    "\n",
    "for cuv in cuvinte:\n",
    "     for ch in cuv:\n",
    "          browser.find_element(By.XPATH, xpath_pt(ch)).click()\n",
    "     time.sleep(2)\n",
    "     press_enter()"
   ]
  }
 ],
 "metadata": {
  "kernelspec": {
   "display_name": "Python 3",
   "language": "python",
   "name": "python3"
  },
  "language_info": {
   "codemirror_mode": {
    "name": "ipython",
    "version": 3
   },
   "file_extension": ".py",
   "mimetype": "text/x-python",
   "name": "python",
   "nbconvert_exporter": "python",
   "pygments_lexer": "ipython3",
   "version": "3.13.0"
  }
 },
 "nbformat": 4,
 "nbformat_minor": 5
}
