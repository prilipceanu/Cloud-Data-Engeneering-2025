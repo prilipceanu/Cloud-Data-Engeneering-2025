{
 "cells": [
  {
   "cell_type": "code",
   "execution_count": null,
   "id": "e4edc76d",
   "metadata": {},
   "outputs": [],
   "source": [
    "from selenium import webdriver\n",
    "from selenium.webdriver.common.by import By\n",
    "import time\n",
    "from datetime import datetime\n",
    "\n",
    "\n",
    "browser = webdriver.Chrome()\n",
    "browser.get(\"https://icanhazdadjoke.com/\")"
   ]
  },
  {
   "cell_type": "code",
   "execution_count": null,
   "id": "00316cc6",
   "metadata": {},
   "outputs": [
    {
     "data": {
      "text/plain": [
       "6"
      ]
     },
     "execution_count": 3,
     "metadata": {},
     "output_type": "execute_result"
    }
   ],
   "source": [
    "len(browser.find_elements(By.CLASS_NAME, \"fc-button-label\"))"
   ]
  },
  {
   "cell_type": "code",
   "execution_count": null,
   "id": "b53ef5cd",
   "metadata": {},
   "outputs": [
    {
     "data": {
      "text/plain": [
       "6"
      ]
     },
     "execution_count": 4,
     "metadata": {},
     "output_type": "execute_result"
    }
   ],
   "source": [
    "\n",
    "len(browser.find_elements(By.CSS_SELECTOR, \"p.fc-button-label\"))"
   ]
  },
  {
   "cell_type": "code",
   "execution_count": null,
   "id": "cdb1edea",
   "metadata": {},
   "outputs": [],
   "source": [
    "browser.find_element(By.XPATH, \"/html/body/div/div[2]/div[2]/div[2]/div[2]/button[1]/p\").click()"
   ]
  },
  {
   "cell_type": "code",
   "execution_count": null,
   "id": "32e52c16",
   "metadata": {},
   "outputs": [
    {
     "data": {
      "text/plain": [
       "2"
      ]
     },
     "execution_count": 6,
     "metadata": {},
     "output_type": "execute_result"
    }
   ],
   "source": [
    "\n",
    "len(browser.find_elements(By.CLASS_NAME, \"subtitle\"))"
   ]
  },
  {
   "cell_type": "code",
   "execution_count": null,
   "id": "04a8a613",
   "metadata": {},
   "outputs": [],
   "source": [
    "XPATH = \"/html/body/section/div/div[2]/div/div/p\"\n",
    "\n",
    "for i in range(3):\n",
    "    joke_text = browser.find_element(By.XPATH, XPATH).text\n",
    "    with open(\"jokes.text\", \"a\") as fwriter:\n",
    "        fwriter.write(\"\\n\")\n",
    "        fwriter.write(joke_text)\n",
    "\n",
    "    browser.find_element(By.CSS_SELECTOR, \".button.is-primary.level-item\").click()"
   ]
  }
 ],
 "metadata": {
  "kernelspec": {
   "display_name": "Python 3",
   "language": "python",
   "name": "python3"
  },
  "language_info": {
   "codemirror_mode": {
    "name": "ipython",
    "version": 3
   },
   "file_extension": ".py",
   "mimetype": "text/x-python",
   "name": "python",
   "nbconvert_exporter": "python",
   "pygments_lexer": "ipython3",
   "version": "3.13.0"
  }
 },
 "nbformat": 4,
 "nbformat_minor": 5
}
